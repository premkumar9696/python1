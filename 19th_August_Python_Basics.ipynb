{
 "cells": [
  {
   "cell_type": "markdown",
   "id": "b33952e5-ef02-4c3e-afca-ba37a32ced92",
   "metadata": {},
   "source": [
    "# python variable assignment question1"
   ]
  },
  {
   "cell_type": "code",
   "execution_count": 1,
   "id": "b9a77591-df84-452e-b9e9-5b8d1d4d279b",
   "metadata": {},
   "outputs": [
    {
     "name": "stdin",
     "output_type": "stream",
     "text": [
      "enter first number:  5\n",
      "enter second number:  6\n"
     ]
    }
   ],
   "source": [
    "a=int(input(\"enter first number: \"))         #taking first number i used type conversion because defaultly input function gives string \n",
    "b=int(input(\"enter second number: \"          #taking second number"
   ]
  },
  {
   "cell_type": "code",
   "execution_count": 2,
   "id": "7291088c-32aa-4349-aa81-123f3328fa6e",
   "metadata": {},
   "outputs": [
    {
     "name": "stdout",
     "output_type": "stream",
     "text": [
      "5 6\n"
     ]
    }
   ],
   "source": [
    "print(a,b)                                   #printing a,b with print function"
   ]
  },
  {
   "cell_type": "code",
   "execution_count": 3,
   "id": "c6906a4d-e618-45e5-9f4d-b754a0ab13a1",
   "metadata": {},
   "outputs": [],
   "source": [
    "a,b=b,a                                      #now i am swapping the values without using third variable"
   ]
  },
  {
   "cell_type": "code",
   "execution_count": 4,
   "id": "ec3ccc64-a0a7-4a79-acf8-f3fe788ae85d",
   "metadata": {},
   "outputs": [
    {
     "name": "stdout",
     "output_type": "stream",
     "text": [
      "6 5\n"
     ]
    }
   ],
   "source": [
    "print(a,b)                                   #printing output in the above print 5,6 came as a and b but now a,b becomes 6,5 hence satisfied"
   ]
  },
  {
   "cell_type": "markdown",
   "id": "41454e4e-7ddd-4b9f-a9cc-118cb94df6df",
   "metadata": {},
   "source": [
    "# python variable assignment question2"
   ]
  },
  {
   "cell_type": "code",
   "execution_count": 5,
   "id": "c202e841-e235-4fd2-8cf8-da0d1dd0a9c4",
   "metadata": {},
   "outputs": [
    {
     "name": "stdin",
     "output_type": "stream",
     "text": [
      "enter length:  5\n",
      "enter width:  5\n"
     ]
    }
   ],
   "source": [
    "length=int(input(\"enter length: \"))          #taking length\n",
    "width=int(input(\"enter width: \"))            #taking width"
   ]
  },
  {
   "cell_type": "code",
   "execution_count": 6,
   "id": "ff0f6ead-d389-4f57-af53-eae25f585945",
   "metadata": {},
   "outputs": [
    {
     "name": "stdout",
     "output_type": "stream",
     "text": [
      "Area of rectangle:  25\n"
     ]
    }
   ],
   "source": [
    "print(\"Area of rectangle: \",length*width)    #area of rectangle is length * width and i printed"
   ]
  },
  {
   "cell_type": "markdown",
   "id": "98ef99e9-00e6-4c60-baf0-5e38ca13de3d",
   "metadata": {},
   "source": [
    "# python variable assignment question3"
   ]
  },
  {
   "cell_type": "code",
   "execution_count": 8,
   "id": "4748d245-7633-480c-9473-2b6942b27f70",
   "metadata": {},
   "outputs": [
    {
     "name": "stdin",
     "output_type": "stream",
     "text": [
      "enter celsius:  100\n"
     ]
    }
   ],
   "source": [
    "celsius=int(input(\"enter celsius: \"))                 #taking celsius as input "
   ]
  },
  {
   "cell_type": "code",
   "execution_count": 9,
   "id": "b960eef5-f057-40cd-8f89-ff7f035bdf4b",
   "metadata": {},
   "outputs": [],
   "source": [
    "fahrenheit=celsius*(9/5)+32                           #this is formula to convert celsius to farenheit"
   ]
  },
  {
   "cell_type": "code",
   "execution_count": 10,
   "id": "93308c41-f335-4487-abb3-5b7e0ccb358c",
   "metadata": {},
   "outputs": [
    {
     "name": "stdout",
     "output_type": "stream",
     "text": [
      "celsius in fahrenheit:  212.0\n"
     ]
    }
   ],
   "source": [
    "print(\"celsius in fahrenheit: \",fahrenheit)           #printed farenheit"
   ]
  },
  {
   "cell_type": "markdown",
   "id": "b8b04ae7-0784-4077-b850-6f26dd65e244",
   "metadata": {},
   "source": [
    "# Strings assignment"
   ]
  },
  {
   "cell_type": "markdown",
   "id": "cfb24cf6-1cf6-4d1e-8edd-8f6f85040ffd",
   "metadata": {},
   "source": [
    "# python string assignment question1"
   ]
  },
  {
   "cell_type": "code",
   "execution_count": 14,
   "id": "92509109-8f86-4101-87b9-9efae101fb0a",
   "metadata": {},
   "outputs": [
    {
     "name": "stdin",
     "output_type": "stream",
     "text": [
      "enter string:  premkumar\n"
     ]
    }
   ],
   "source": [
    "a=input(\"enter string: \")                         #taking string from input"
   ]
  },
  {
   "cell_type": "code",
   "execution_count": 15,
   "id": "57006ac6-b372-4d03-b58e-c260667e813d",
   "metadata": {},
   "outputs": [
    {
     "name": "stdout",
     "output_type": "stream",
     "text": [
      "the length of string:  9\n"
     ]
    }
   ],
   "source": [
    "print(\"the length of string: \",len(a))            #finding length of a string using len() function"
   ]
  },
  {
   "cell_type": "code",
   "execution_count": 9,
   "id": "76d0c7c9-e322-49d0-9986-d204461b4e30",
   "metadata": {},
   "outputs": [],
   "source": [
    "# 2nd way without using function"
   ]
  },
  {
   "cell_type": "code",
   "execution_count": 17,
   "id": "c9f57926-c639-4cec-aa7d-b5a7fd62a78e",
   "metadata": {},
   "outputs": [
    {
     "name": "stdout",
     "output_type": "stream",
     "text": [
      "the length of string:  9\n"
     ]
    }
   ],
   "source": [
    "c=0\n",
    "for i in a:\n",
    "    c=c+1\n",
    "print(\"the length of string: \",c)"
   ]
  },
  {
   "cell_type": "markdown",
   "id": "ce35901e-5867-4d1f-84c5-4207af0230fa",
   "metadata": {},
   "source": [
    "# python string assignment question2\n"
   ]
  },
  {
   "cell_type": "code",
   "execution_count": 1,
   "id": "9f72610a-51ba-4a6d-b982-ea6a329fb8ca",
   "metadata": {},
   "outputs": [
    {
     "name": "stdin",
     "output_type": "stream",
     "text": [
      "enter a string:  premkumar\n"
     ]
    }
   ],
   "source": [
    "stringvow=input(\"enter a string: \")            #i took the string as atringvow"
   ]
  },
  {
   "cell_type": "code",
   "execution_count": 2,
   "id": "e09ffd97-b826-435d-a96e-b436f43a2c39",
   "metadata": {},
   "outputs": [
    {
     "name": "stdout",
     "output_type": "stream",
     "text": [
      "the number of vowels in sentence:  3\n"
     ]
    }
   ],
   "source": [
    "c=0                                            #taken a variable for vowel count\n",
    "vowels=\"aeiou\"                                 #taken a string of vowels\n",
    "for i in stringvow:                            #iterating the stringvow each elemnenu using for loop\n",
    "    if i.lower() in vowels:                    #here i am using membership function whether vowel present in the stringvow or not by individually\n",
    "        c=c+1\n",
    "print(\"the number of vowels in sentence: \",c) #printing c that means total count of vowels in stringvow"
   ]
  },
  {
   "cell_type": "markdown",
   "id": "73f714ba-ae90-41fa-bce4-605b1b5c2dcb",
   "metadata": {},
   "source": [
    "# python string assignment question3\n"
   ]
  },
  {
   "cell_type": "code",
   "execution_count": 3,
   "id": "a1d61775-c4c1-4f94-8986-b771e1c389cf",
   "metadata": {},
   "outputs": [
    {
     "name": "stdin",
     "output_type": "stream",
     "text": [
      "enter a string:  prmkumr\n"
     ]
    },
    {
     "name": "stdout",
     "output_type": "stream",
     "text": [
      "revered string is:  rmukmrp\n"
     ]
    }
   ],
   "source": [
    "k=input(\"enter a string: \")               #taking string\n",
    "print(\"revered string is: \",k[::-1])      #by using slicing i am reversing the string and printed string"
   ]
  },
  {
   "cell_type": "markdown",
   "id": "e0daea36-7c53-4f88-8a42-8b8193be1fb9",
   "metadata": {},
   "source": [
    "# python string assignment question4\n"
   ]
  },
  {
   "cell_type": "code",
   "execution_count": 5,
   "id": "214bc72b-05de-41bd-bc42-7905ed54f534",
   "metadata": {},
   "outputs": [
    {
     "name": "stdin",
     "output_type": "stream",
     "text": [
      "enter the input:  prem\n"
     ]
    },
    {
     "name": "stdout",
     "output_type": "stream",
     "text": [
      "it is not palindrome\n"
     ]
    }
   ],
   "source": [
    "p=input(\"enter the input: \")             #palindrome means if you reverse any string and got the same result as befiore is called palindrome\n",
    "prev=p[::-1]                             #reversed the string by using slice operator\n",
    "if p==prev:                              #by using if condition i am checking original string with reversed string \n",
    "    print(\"it is palindrome\")            #condition satisfies then it is palindrome or else it is not palindrome\n",
    "else:\n",
    "    print(\"it is not palindrome\")"
   ]
  },
  {
   "cell_type": "markdown",
   "id": "8cca6344-fbcb-44d9-bf3a-f9cd62a2e676",
   "metadata": {},
   "source": [
    "# python string assignment question5\n"
   ]
  },
  {
   "cell_type": "code",
   "execution_count": 8,
   "id": "064864f9-1a34-4c06-b8d2-843b8c3bb3c1",
   "metadata": {},
   "outputs": [
    {
     "name": "stdin",
     "output_type": "stream",
     "text": [
      "enter string:  my name is prem kumar\n"
     ]
    },
    {
     "name": "stdout",
     "output_type": "stream",
     "text": [
      "Modified string is : mynameispremkumar\n"
     ]
    }
   ],
   "source": [
    "p=input(\"enter string: \") #taking input as p\n",
    "k=\"\"                      #take a empty variable for result purpose\n",
    "for i in p:               #i am iterating each and every element in string p \n",
    "    if i==\" \":            #by using if condition where ever space is there i am passing with key word called continue\n",
    "        continue\n",
    "    else:                 #if if condition fails it will come to else block and executes i am appending to previously empty variable\n",
    "        k=k+i\n",
    "print(\"Modified string is :\",k) #printing the output"
   ]
  },
  {
   "cell_type": "code",
   "execution_count": null,
   "id": "4433e59e-b30c-4ce8-98d1-d8828a184cf4",
   "metadata": {},
   "outputs": [],
   "source": []
  }
 ],
 "metadata": {
  "kernelspec": {
   "display_name": "Python 3 (ipykernel)",
   "language": "python",
   "name": "python3"
  },
  "language_info": {
   "codemirror_mode": {
    "name": "ipython",
    "version": 3
   },
   "file_extension": ".py",
   "mimetype": "text/x-python",
   "name": "python",
   "nbconvert_exporter": "python",
   "pygments_lexer": "ipython3",
   "version": "3.10.8"
  }
 },
 "nbformat": 4,
 "nbformat_minor": 5
}
